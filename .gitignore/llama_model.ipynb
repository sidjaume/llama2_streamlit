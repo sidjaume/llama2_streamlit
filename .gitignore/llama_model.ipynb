{
 "cells": [
  {
   "cell_type": "code",
   "execution_count": 112,
   "metadata": {},
   "outputs": [],
   "source": [
    "import streamlit as st\n",
    "import replicate\n",
    "import os\n",
    "replicate_api = 'r8_5x6EJXbsnYzL9aERZqTOhMbYQpKP2QO0o4C9e'\n",
    "os.environ['REPLICATE_API_TOKEN'] = replicate_api\n",
    "def generate_llama2_response(prompt_input):\n",
    "    string_dialogue = \"Tu función principal como analizador de lenguaje inapropiado es examinar un texto y determinar si contiene palabras o expresiones ofensivas. Si detectas lenguaje inapropiado, tu respuesta debe ser 'SÍ'. Si no detectas lenguaje inapropiado, tu respuesta debe ser 'NO'.\"\n",
    "    output = replicate.run('meta/llama-2-70b-chat:35042c9a33ac8fd5e29e27fb3197f33aa483f72c2ce3b0b9d201155c7fd2a287',\n",
    "                           input={\"prompt\": prompt_input,\n",
    "                                  \"system_prompt\":string_dialogue})\n",
    "    return output\n",
    "\n"
   ]
  },
  {
   "cell_type": "code",
   "execution_count": 173,
   "metadata": {},
   "outputs": [],
   "source": [
    "prompt_input = \"\"\n"
   ]
  },
  {
   "cell_type": "code",
   "execution_count": 174,
   "metadata": {},
   "outputs": [],
   "source": [
    "response = generate_llama2_response(prompt_input)"
   ]
  },
  {
   "cell_type": "code",
   "execution_count": 175,
   "metadata": {},
   "outputs": [],
   "source": [
    "full_response = ''\n",
    "placeholder = st.empty()\n",
    "\n",
    "for item in response:\n",
    "    full_response += item\n",
    "    placeholder.markdown(full_response)\n",
    "placeholder.markdown(full_response)\n",
    "message = {\"role\": \"Assistant\", \"content\": full_response}"
   ]
  },
  {
   "cell_type": "code",
   "execution_count": 176,
   "metadata": {},
   "outputs": [
    {
     "name": "stdout",
     "output_type": "stream",
     "text": [
      " SÍ\n"
     ]
    }
   ],
   "source": [
    "\n",
    "\n",
    "print(message['content'])"
   ]
  },
  {
   "cell_type": "code",
   "execution_count": null,
   "metadata": {},
   "outputs": [],
   "source": []
  },
  {
   "cell_type": "code",
   "execution_count": null,
   "metadata": {},
   "outputs": [],
   "source": []
  },
  {
   "cell_type": "code",
   "execution_count": null,
   "metadata": {},
   "outputs": [],
   "source": []
  },
  {
   "cell_type": "code",
   "execution_count": null,
   "metadata": {},
   "outputs": [],
   "source": []
  }
 ],
 "metadata": {
  "kernelspec": {
   "display_name": "api_env",
   "language": "python",
   "name": "python3"
  },
  "language_info": {
   "codemirror_mode": {
    "name": "ipython",
    "version": 3
   },
   "file_extension": ".py",
   "mimetype": "text/x-python",
   "name": "python",
   "nbconvert_exporter": "python",
   "pygments_lexer": "ipython3",
   "version": "3.9.17"
  },
  "orig_nbformat": 4
 },
 "nbformat": 4,
 "nbformat_minor": 2
}
